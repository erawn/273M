{
  "nbformat": 4,
  "nbformat_minor": 0,
  "metadata": {
    "colab": {
      "provenance": []
    },
    "kernelspec": {
      "name": "python3",
      "display_name": "Python 3"
    },
    "language_info": {
      "name": "python"
    }
  },
  "cells": [
    {
      "cell_type": "code",
      "execution_count": 16,
      "metadata": {
        "colab": {
          "base_uri": "https://localhost:8080/"
        },
        "id": "-BWyzQeAqqhu",
        "outputId": "00796d0a-1765-4e27-afe6-b500d7b69a34"
      },
      "outputs": [
        {
          "output_type": "stream",
          "name": "stderr",
          "text": [
            "Device set to use cpu\n"
          ]
        },
        {
          "output_type": "execute_result",
          "data": {
            "text/plain": [
              "[{'generated_text': 'Research in the social sciences is often done in large, multi-ethnic, multi-ethnic environments. Large language models can be used to study large groups of people who have different backgrounds, e.g., African Americans, Asian Americans, Hispanics, etc.'}]"
            ]
          },
          "metadata": {},
          "execution_count": 16
        }
      ],
      "source": [
        "from transformers import pipeline\n",
        "\n",
        "text2text_generator = pipeline(\"text2text-generation\", model=\"google/flan-t5-large\",)\n",
        "\n",
        "input = \"question: I am a computational social scientist. How should I be using large language models for my research?\"\n",
        "\n",
        "text2text_generator(input,max_length=100,do_sample=True, temperature = .5)\n"
      ]
    },
    {
      "cell_type": "markdown",
      "source": [
        "Temp=2.2 :\n",
        "One must remember however to respect sane participants. There must be no bias at all dues for either participant at one time. This doesn u not tell us not everyone has a good conversation anymore even if your in one spot; to speak as someone doing very simple thing. Your only recourse should come down at trial. The problem is you want evidence for everyone. Heres another if and how u dont find is possible it does nt get any\n",
        "\n",
        "Temp-.5 : Research in the social sciences is often done in large, multi-ethnic, multi-ethnic environments. Large language models can be used to study large groups of people who have different backgrounds, e.g., African Americans, Asian Americans, Hispanics, etc.' (Yikes)"
      ],
      "metadata": {
        "id": "MTdz7JtGt_4X"
      }
    }
  ]
}